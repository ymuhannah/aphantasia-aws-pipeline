{
 "cells": [
  {
   "cell_type": "markdown",
   "metadata": {},
   "source": [
    "## Create an S3 bucket to save participants' experiment data"
   ]
  },
  {
   "cell_type": "code",
   "execution_count": 1,
   "metadata": {},
   "outputs": [
    {
     "name": "stdout",
     "output_type": "stream",
     "text": [
      "Bucket save-exp-data002 created successfully.\n"
     ]
    }
   ],
   "source": [
    "import boto3\n",
    "\n",
    "# Create S3 client\n",
    "s3 = boto3.client('s3', region_name='us-east-1')\n",
    "\n",
    "# Define bucket name\n",
    "bucket_name = 'save-exp-data002'\n",
    "\n",
    "# Create the S3 bucket\n",
    "try:\n",
    "    s3.create_bucket(Bucket=bucket_name)\n",
    "    print(f'Bucket {bucket_name} created successfully.')\n",
    "except s3.exceptions.BucketAlreadyOwnedByYou:\n",
    "    print(f'Bucket {bucket_name} already exists and is owned by you.')\n",
    "except Exception as e:\n",
    "    print(f'Error creating bucket: {e}')\n"
   ]
  },
  {
   "cell_type": "markdown",
   "metadata": {},
   "source": [
    "## Create an S3 bucket to store experiment coding"
   ]
  },
  {
   "cell_type": "code",
   "execution_count": 2,
   "metadata": {},
   "outputs": [
    {
     "name": "stdout",
     "output_type": "stream",
     "text": [
      "Bucket final-project-exp003 created successfully.\n"
     ]
    }
   ],
   "source": [
    "import boto3\n",
    "import os\n",
    "\n",
    "# Create S3 client\n",
    "s3 = boto3.client('s3', region_name='us-east-1')\n",
    "\n",
    "# Define bucket name\n",
    "bucket = 'final-project-exp003'\n",
    "\n",
    "# Create S3 bucket\n",
    "try:\n",
    "    s3.create_bucket(Bucket=bucket)\n",
    "    print(f'Bucket {bucket} created successfully.')\n",
    "except s3.exceptions.BucketAlreadyOwnedByYou:\n",
    "    print(f'Bucket {bucket} already exists and is owned by you.')\n",
    "except Exception as e:\n",
    "    print(f'Error creating bucket: {e}')"
   ]
  },
  {
   "cell_type": "markdown",
   "metadata": {},
   "source": [
    "## Make the S3 bucket saving the experiment code public"
   ]
  },
  {
   "cell_type": "code",
   "execution_count": 3,
   "metadata": {},
   "outputs": [
    {
     "name": "stdout",
     "output_type": "stream",
     "text": [
      "Public access settings for bucket final-project-exp003 updated successfully.\n"
     ]
    }
   ],
   "source": [
    "import boto3\n",
    "\n",
    "# Create S3 client\n",
    "s3 = boto3.client('s3', region_name='us-east-1')\n",
    "\n",
    "\n",
    "# Update bucket public access settings to allow public access\n",
    "try:\n",
    "    s3.put_public_access_block(\n",
    "        Bucket=bucket,\n",
    "        PublicAccessBlockConfiguration={\n",
    "            'BlockPublicAcls': False,\n",
    "            'IgnorePublicAcls': False,\n",
    "            'BlockPublicPolicy': False,\n",
    "            'RestrictPublicBuckets': False\n",
    "        }\n",
    "    )\n",
    "    print(f'Public access settings for bucket {bucket} updated successfully.')\n",
    "except Exception as e:\n",
    "    print(f'Error updating public access settings for bucket: {e}')\n"
   ]
  },
  {
   "cell_type": "markdown",
   "metadata": {},
   "source": [
    "## Ensure the object in the S3 bucket is also accessible and upload the experiment coding to the bucket."
   ]
  },
  {
   "cell_type": "code",
   "execution_count": 4,
   "metadata": {},
   "outputs": [
    {
     "name": "stdout",
     "output_type": "stream",
     "text": [
      "Bucket policy for final-project-exp003 set successfully.\n",
      "File dual_coding_exp.zip uploaded successfully to final-project-exp003.\n"
     ]
    }
   ],
   "source": [
    "import boto3\n",
    "import os\n",
    "import json\n",
    "\n",
    "# Create S3 client\n",
    "s3 = boto3.client('s3', region_name='us-east-1')\n",
    "\n",
    "# Define bucket name\n",
    "bucket = 'final-project-exp003'\n",
    "\n",
    "# Define bucket policy\n",
    "bucket_policy = {\n",
    "    \"Version\": \"2012-10-17\",\n",
    "    \"Statement\": [\n",
    "        {\n",
    "            \"Sid\": \"AddPerm\",\n",
    "            \"Effect\": \"Allow\",\n",
    "            \"Principal\": \"*\",\n",
    "            \"Action\": \"s3:GetObject\",\n",
    "            \"Resource\": f\"arn:aws:s3:::{bucket}/*\"\n",
    "        }\n",
    "    ]\n",
    "}\n",
    "\n",
    "# Convert the policy to a JSON string\n",
    "bucket_policy = json.dumps(bucket_policy)\n",
    "\n",
    "# Set the new policy on the given bucket\n",
    "try:\n",
    "    s3.put_bucket_policy(Bucket=bucket, Policy=bucket_policy)\n",
    "    print(f'Bucket policy for {bucket} set successfully.')\n",
    "except Exception as e:\n",
    "    print(f'Error setting bucket policy: {e}')\n",
    "\n",
    "# Define the file name and path\n",
    "file_name = 'dual_coding_exp.zip'\n",
    "file_path = os.path.join(os.getcwd(), file_name)\n",
    "\n",
    "# Upload the file to the S3 bucket\n",
    "try:\n",
    "    s3.upload_file(file_path, bucket, file_name)\n",
    "    print(f'File {file_name} uploaded successfully to {bucket}.')\n",
    "except Exception as e:\n",
    "    print(f'Error uploading file: {e}')\n"
   ]
  },
  {
   "cell_type": "markdown",
   "metadata": {},
   "source": [
    "## Create an EC2 instance to run the experiment"
   ]
  },
  {
   "cell_type": "code",
   "execution_count": 14,
   "metadata": {},
   "outputs": [
    {
     "name": "stdout",
     "output_type": "stream",
     "text": [
      "Default VPC ID: vpc-0d524f8d985955be3\n",
      "Latest Amazon Linux 2 AMI ID: ami-0babef7f814da8951\n",
      "Security Group my-security-group already exists with ID sg-0b917930336fe7475.\n",
      "EC2 Instance i-04a03d48345d89929 launched successfully.\n"
     ]
    }
   ],
   "source": [
    "import boto3\n",
    "\n",
    "# Create EC2 client\n",
    "ec2 = boto3.client('ec2', region_name='us-east-1')\n",
    "\n",
    "# Get default VPC ID\n",
    "def get_default_vpc_id():\n",
    "    response = ec2.describe_vpcs(Filters=[{'Name': 'isDefault', 'Values': ['true']}])\n",
    "    if response['Vpcs']:\n",
    "        return response['Vpcs'][0]['VpcId']\n",
    "    else:\n",
    "        raise Exception('No default VPC found')\n",
    "\n",
    "# Get the default VPC ID\n",
    "try:\n",
    "    default_vpc_id = get_default_vpc_id()\n",
    "    print(f'Default VPC ID: {default_vpc_id}')\n",
    "except Exception as e:\n",
    "    print(f'Error getting default VPC ID: {e}')\n",
    "    default_vpc_id = None  # Handle this appropriately\n",
    "\n",
    "# Get the latest Amazon Linux 2 AMI ID\n",
    "def get_latest_amazon_linux_ami():\n",
    "    response = ec2.describe_images(\n",
    "        Owners=['amazon'],\n",
    "        Filters=[\n",
    "            {'Name': 'name', 'Values': ['amzn2-ami-hvm-*-x86_64-gp2']},\n",
    "            {'Name': 'state', 'Values': ['available']}\n",
    "        ]\n",
    "    )\n",
    "    images = sorted(response['Images'], key=lambda x: x['CreationDate'], reverse=True)\n",
    "    if images:\n",
    "        return images[0]['ImageId']\n",
    "    else:\n",
    "        raise Exception('No Amazon Linux 2 AMI found')\n",
    "\n",
    "# Get the latest Amazon Linux 2 AMI ID\n",
    "try:\n",
    "    latest_ami_id = get_latest_amazon_linux_ami()\n",
    "    print(f'Latest Amazon Linux 2 AMI ID: {latest_ami_id}')\n",
    "except Exception as e:\n",
    "    print(f'Error getting latest Amazon Linux 2 AMI ID: {e}')\n",
    "    latest_ami_id = None  # Handle this appropriately\n",
    "\n",
    "# Check if security group already exists\n",
    "def get_security_group_id(security_group_name, vpc_id):\n",
    "    response = ec2.describe_security_groups(Filters=[\n",
    "        {'Name': 'group-name', 'Values': [security_group_name]},\n",
    "        {'Name': 'vpc-id', 'Values': [vpc_id]}\n",
    "    ])\n",
    "    if response['SecurityGroups']:\n",
    "        return response['SecurityGroups'][0]['GroupId']\n",
    "    return None\n",
    "\n",
    "# Define security group parameters\n",
    "security_group_name = 'my-security-group'\n",
    "security_group_description = 'Security group for allowing SSH and HTTP access'\n",
    "\n",
    "# Create or get security group ID\n",
    "try:\n",
    "    security_group_id = get_security_group_id(security_group_name, default_vpc_id)\n",
    "    if not security_group_id:\n",
    "        response = ec2.create_security_group(\n",
    "            GroupName=security_group_name,\n",
    "            Description=security_group_description,\n",
    "            VpcId=default_vpc_id\n",
    "        )\n",
    "        security_group_id = response['GroupId']\n",
    "        print(f'Security Group Created {security_group_id} in VPC {default_vpc_id}.')\n",
    "\n",
    "        # Add a rule to allow SSH traffic from anywhere and HTTP traffic from the internet\n",
    "        ec2.authorize_security_group_ingress(\n",
    "            GroupId=security_group_id,\n",
    "            IpPermissions=[\n",
    "                {'IpProtocol': 'tcp',\n",
    "                 'FromPort': 22,\n",
    "                 'ToPort': 22,\n",
    "                 'IpRanges': [{'CidrIp': '0.0.0.0/0'}]},\n",
    "                {'IpProtocol': 'tcp',\n",
    "                 'FromPort': 80,\n",
    "                 'ToPort': 80,\n",
    "                 'IpRanges': [{'CidrIp': '0.0.0.0/0'}]}\n",
    "            ]\n",
    "        )\n",
    "        print(f'Ingress Successfully Set for Security Group {security_group_name}')\n",
    "    else:\n",
    "        print(f'Security Group {security_group_name} already exists with ID {security_group_id}.')\n",
    "except Exception as e:\n",
    "    print(f'Error creating or getting security group: {e}')\n",
    "    security_group_id = None  # Handle this appropriately\n",
    "\n",
    "# Launch an EC2 instance\n",
    "try:\n",
    "    if security_group_id:\n",
    "        instances = ec2.run_instances(\n",
    "            ImageId=latest_ami_id,  # Use the obtained latest AMI ID\n",
    "            MinCount=1,\n",
    "            MaxCount=1,\n",
    "            InstanceType='t2.micro',\n",
    "            KeyName='vockey',\n",
    "            SecurityGroupIds=[security_group_id],\n",
    "        )\n",
    "        instance_id = instances['Instances'][0]['InstanceId']\n",
    "        print(f'EC2 Instance {instance_id} launched successfully.')\n",
    "    else:\n",
    "        print('Security group ID is invalid. Instance launch aborted.')\n",
    "except Exception as e:\n",
    "    print(f'Error launching EC2 instance: {e}')\n"
   ]
  },
  {
   "cell_type": "markdown",
   "metadata": {},
   "source": [
    "## Create a RDS instance to recieve the experiment data when the participants finish the experiment"
   ]
  },
  {
   "cell_type": "code",
   "execution_count": 15,
   "metadata": {},
   "outputs": [
    {
     "name": "stdout",
     "output_type": "stream",
     "text": [
      "Creating RDS instance. This may take a few minutes...\n",
      "RDS instance is now available.\n",
      "Endpoint: final-project-database001.cv7jvzss5xbo.us-east-1.rds.amazonaws.com\n",
      "Port: 3306\n",
      "DBInstanceIdentifier: final-project-database001\n"
     ]
    }
   ],
   "source": [
    "import boto3\n",
    "import pymysql\n",
    "import time\n",
    "\n",
    "# Create RDS client\n",
    "rds = boto3.client('rds', region_name='us-east-1')\n",
    "\n",
    "# Create RDS instance\n",
    "response = rds.create_db_instance(\n",
    "    DBInstanceIdentifier='final-project-database001',\n",
    "    DBName='finaldata001',\n",
    "    MasterUsername='username',\n",
    "    MasterUserPassword='password',\n",
    "    DBInstanceClass='db.t3.micro',\n",
    "    Engine='mysql',\n",
    "    AllocatedStorage=5\n",
    ")\n",
    "\n",
    "# Wait for the RDS instance to be available\n",
    "print(\"Creating RDS instance. This may take a few minutes...\")\n",
    "rds.get_waiter('db_instance_available').wait(DBInstanceIdentifier='final-project-database001')\n",
    "print(\"RDS instance is now available.\")\n",
    "\n",
    "# Get RDS instance connection information\n",
    "db = rds.describe_db_instances(DBInstanceIdentifier='final-project-database001')['DBInstances'][0]\n",
    "ENDPOINT = db['Endpoint']['Address']\n",
    "PORT = db['Endpoint']['Port']\n",
    "DBID = db['DBInstanceIdentifier']\n",
    "\n",
    "print(f\"Endpoint: {ENDPOINT}\")\n",
    "print(f\"Port: {PORT}\")\n",
    "print(f\"DBInstanceIdentifier: {DBID}\")\n",
    "\n",
    "# Create the database and tables\n",
    "# Wait a few minutes to ensure the RDS instance is fully ready\n",
    "time.sleep(300)\n"
   ]
  },
  {
   "cell_type": "code",
   "execution_count": 16,
   "metadata": {},
   "outputs": [],
   "source": [
    "import boto3\n",
    "\n",
    "# Define the endpoint and port\n",
    "ENDPOINT = 'final-project-database001.cv7jvzss5xbo.us-east-1.rds.amazonaws.com'\n",
    "PORT = 3306"
   ]
  },
  {
   "cell_type": "markdown",
   "metadata": {},
   "source": [
    "## Grant the EC2 instance permission to access the RDS instance so the experiment data could be saved successfully"
   ]
  },
  {
   "cell_type": "code",
   "execution_count": 17,
   "metadata": {},
   "outputs": [
    {
     "name": "stdout",
     "output_type": "stream",
     "text": [
      "Permissions already adjusted.\n"
     ]
    }
   ],
   "source": [
    "import boto3\n",
    "\n",
    "# Get the security group ID for the RDS instance\n",
    "rds = boto3.client('rds', region_name='us-east-1')\n",
    "db = rds.describe_db_instances(DBInstanceIdentifier='final-project-database001')['DBInstances'][0]\n",
    "SGNAME = db['VpcSecurityGroups'][0]['VpcSecurityGroupId']\n",
    "\n",
    "# Adjust permissions for the security group to allow access on port 3306\n",
    "ec2 = boto3.client('ec2')\n",
    "try:\n",
    "    ec2.authorize_security_group_ingress(\n",
    "        GroupId=SGNAME,\n",
    "        IpPermissions=[\n",
    "            {'IpProtocol': 'tcp',\n",
    "             'FromPort': PORT,\n",
    "             'ToPort': PORT,\n",
    "             'IpRanges': [{'CidrIp': '0.0.0.0/0'}]}\n",
    "        ]\n",
    "    )\n",
    "    print(\"Permissions successfully adjusted.\")\n",
    "except ec2.exceptions.ClientError as e:\n",
    "    if e.response[\"Error\"][\"Code\"] == 'InvalidPermission.Duplicate':\n",
    "        print(\"Permissions already adjusted.\")\n",
    "    else:\n",
    "        print(e)\n"
   ]
  },
  {
   "cell_type": "markdown",
   "metadata": {},
   "source": [
    "## Create a few tables to save different sections of the experiment data"
   ]
  },
  {
   "cell_type": "code",
   "execution_count": 26,
   "metadata": {},
   "outputs": [
    {
     "name": "stdout",
     "output_type": "stream",
     "text": [
      "Connected to the RDS instance successfully.\n",
      "Database and tables created successfully.\n"
     ]
    }
   ],
   "source": [
    "# Connect to the RDS instance\n",
    "try:\n",
    "    connection = pymysql.connect(\n",
    "        host='final-project-database001.cv7jvzss5xbo.us-east-1.rds.amazonaws.com',\n",
    "        user='username',\n",
    "        password='password',\n",
    "        port=PORT\n",
    "    )\n",
    "    print(\"Connected to the RDS instance successfully.\")\n",
    "    \n",
    "    try:\n",
    "        with connection.cursor() as cursor:\n",
    "            # Create database\n",
    "            cursor.execute(\"CREATE DATABASE IF NOT EXISTS finaldata001\")\n",
    "            cursor.execute(\"USE finaldata001\")\n",
    "            \n",
    "            # Create tables\n",
    "            cursor.execute(\"\"\"\n",
    "            CREATE TABLE IF NOT EXISTS EmailAddressInput (\n",
    "                EmailAddress VARCHAR(255) UNIQUE,\n",
    "                FutureContactConsent BOOLEAN\n",
    "            )\n",
    "            \"\"\")\n",
    "            cursor.execute(\"\"\"\n",
    "            CREATE TABLE IF NOT EXISTS Demographics (\n",
    "                EmailAddress VARCHAR(255) UNIQUE,\n",
    "                Age INT,\n",
    "                Sex VARCHAR(255),\n",
    "                Ethnicity VARCHAR(255),\n",
    "                Race VARCHAR(255)\n",
    "            )\n",
    "            \"\"\")\n",
    "            connection.commit()\n",
    "        print(\"Database and tables created successfully.\")\n",
    "    finally:\n",
    "        connection.close()\n",
    "except pymysql.MySQLError as e:\n",
    "    print(f\"Error connecting to RDS: {e}\")"
   ]
  },
  {
   "cell_type": "code",
   "execution_count": 27,
   "metadata": {},
   "outputs": [
    {
     "name": "stdout",
     "output_type": "stream",
     "text": [
      "Connected to the RDS instance successfully.\n",
      "Table created or altered successfully.\n"
     ]
    }
   ],
   "source": [
    "import pymysql\n",
    "\n",
    "# Connect to the RDS instance\n",
    "try:\n",
    "    connection = pymysql.connect(\n",
    "        host='final-project-database001.cv7jvzss5xbo.us-east-1.rds.amazonaws.com',\n",
    "        user='username',\n",
    "        password='password',\n",
    "        database='finaldata001',\n",
    "        port=3306\n",
    "    )\n",
    "    print(\"Connected to the RDS instance successfully.\")\n",
    "    \n",
    "    try:\n",
    "        with connection.cursor() as cursor:\n",
    "            # Create or alter the Demographics table to add VVIQ columns\n",
    "            cursor.execute(\"\"\"\n",
    "            CREATE TABLE IF NOT EXISTS VVIQResponses (\n",
    "                EmailAddress VARCHAR(255) UNIQUE,\n",
    "                VVIQ_Q1 INT,\n",
    "                VVIQ_Q2 INT,\n",
    "                VVIQ_Q3 INT,\n",
    "                VVIQ_Q4 INT,\n",
    "                VVIQ_Q5 INT,\n",
    "                VVIQ_Q6 INT,\n",
    "                VVIQ_Q7 INT,\n",
    "                VVIQ_Q8 INT,\n",
    "                VVIQ_Q9 INT,\n",
    "                VVIQ_Q10 INT,\n",
    "                VVIQ_Q11 INT,\n",
    "                VVIQ_Q12 INT,\n",
    "                VVIQ_Q13 INT,\n",
    "                VVIQ_Q14 INT,\n",
    "                VVIQ_Q15 INT,\n",
    "                VVIQ_Q16 INT\n",
    "            )\n",
    "            \"\"\")\n",
    "            connection.commit()\n",
    "        print(\"Table created or altered successfully.\")\n",
    "    finally:\n",
    "        connection.close()\n",
    "except pymysql.MySQLError as e:\n",
    "    print(f\"Error connecting to RDS: {e}\")\n"
   ]
  },
  {
   "cell_type": "code",
   "execution_count": 28,
   "metadata": {},
   "outputs": [
    {
     "name": "stdout",
     "output_type": "stream",
     "text": [
      "Connected to the RDS instance successfully.\n",
      "Table created or altered successfully.\n"
     ]
    }
   ],
   "source": [
    "import pymysql\n",
    "\n",
    "# Connect to the RDS instance\n",
    "try:\n",
    "    connection = pymysql.connect(\n",
    "        host='final-project-database001.cv7jvzss5xbo.us-east-1.rds.amazonaws.com',\n",
    "        user='username',\n",
    "        password='password',\n",
    "        database='finaldata001',\n",
    "        port=3306\n",
    "    )\n",
    "    print(\"Connected to the RDS instance successfully.\")\n",
    "    \n",
    "    try:\n",
    "        with connection.cursor() as cursor:\n",
    "            # Create the AttentionCheck table\n",
    "            cursor.execute(\"\"\"\n",
    "            CREATE TABLE IF NOT EXISTS AttentionCheck (\n",
    "                EmailAddress VARCHAR(255) UNIQUE,\n",
    "                IdealParticipation BOOLEAN,\n",
    "                AttentionCheckTask VARCHAR(255)\n",
    "            )\n",
    "            \"\"\")\n",
    "            connection.commit()\n",
    "        print(\"Table created or altered successfully.\")\n",
    "    finally:\n",
    "        connection.close()\n",
    "except pymysql.MySQLError as e:\n",
    "    print(f\"Error connecting to RDS: {e}\")\n"
   ]
  },
  {
   "cell_type": "markdown",
   "metadata": {},
   "source": [
    "## Use the code below to renew the experiment code in the S3 bucket if the experiment code has been updated"
   ]
  },
  {
   "cell_type": "code",
   "execution_count": 4,
   "metadata": {},
   "outputs": [
    {
     "name": "stdout",
     "output_type": "stream",
     "text": [
      "File dual_coding_exp.zip uploaded successfully to final-project-exp003, replacing the existing file.\n"
     ]
    }
   ],
   "source": [
    "import boto3\n",
    "import os\n",
    "import json\n",
    "\n",
    "# Create S3 client\n",
    "s3 = boto3.client('s3', region_name='us-east-1')\n",
    "\n",
    "# Define bucket name\n",
    "bucket = 'final-project-exp003'\n",
    "\n",
    "# Define the file name and path\n",
    "file_name = 'dual_coding_exp.zip'\n",
    "file_path = os.path.join(os.getcwd(), file_name)\n",
    "\n",
    "# Upload the file to the S3 bucket, replacing the existing file\n",
    "try:\n",
    "    s3.upload_file(file_path, bucket, file_name)\n",
    "    print(f'File {file_name} uploaded successfully to {bucket}, replacing the existing file.')\n",
    "except Exception as e:\n",
    "    print(f'Error uploading file: {e}')\n"
   ]
  }
 ],
 "metadata": {
  "kernelspec": {
   "display_name": "base",
   "language": "python",
   "name": "python3"
  },
  "language_info": {
   "codemirror_mode": {
    "name": "ipython",
    "version": 3
   },
   "file_extension": ".py",
   "mimetype": "text/x-python",
   "name": "python",
   "nbconvert_exporter": "python",
   "pygments_lexer": "ipython3",
   "version": "3.11.4"
  },
  "orig_nbformat": 4
 },
 "nbformat": 4,
 "nbformat_minor": 2
}
