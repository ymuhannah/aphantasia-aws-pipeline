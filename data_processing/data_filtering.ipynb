{
 "cells": [
  {
   "cell_type": "code",
   "execution_count": 4,
   "metadata": {},
   "outputs": [],
   "source": [
    "import boto3\n",
    "import pandas as pd\n",
    "\n",
    "# Initialize boto3 S3 client\n",
    "s3 = boto3.client('s3')\n",
    "\n",
    "# Define bucket and file names\n",
    "destination_bucket = 'aggregated-exp-data-parquet'\n",
    "aggregated_file = 'aggregated_exp_data.parquet'\n",
    "new_file = 'potential_future_aphan_participants.parquet'\n",
    "\n",
    "# Local paths for temporary storage\n",
    "local_aggregated_path = '/tmp/' + aggregated_file\n",
    "local_new_file_path = '/tmp/' + new_file\n",
    "\n",
    "# Download the aggregated Parquet file from S3\n",
    "def download_aggregated_data():\n",
    "    s3.download_file(destination_bucket, aggregated_file, local_aggregated_path)\n",
    "    return pd.read_parquet(local_aggregated_path)\n",
    "\n",
    "# Upload the new Parquet file to S3\n",
    "def upload_new_file(df):\n",
    "    df.to_parquet(local_new_file_path, index=False)\n",
    "    s3.upload_file(local_new_file_path, destination_bucket, new_file)\n",
    "\n",
    "def upload_filtered_data(df):\n",
    "    df.to_parquet(local_aggregated_path, index=False)\n",
    "    s3.upload_file(local_aggregated_path, destination_bucket, aggregated_file)\n"
   ]
  },
  {
   "cell_type": "code",
   "execution_count": 5,
   "metadata": {},
   "outputs": [
    {
     "name": "stdout",
     "output_type": "stream",
     "text": [
      "Filtered rows for potential future aphantasic participants:\n",
      "['0yofabs7se@gmail.com', '0z710d02cc@gmail.com', '4l8eow9pc5@gmail.com', '9tmhqldp29@gmail.com', 'afdd56ach1@gmail.com', 'cxu7luypuf@gmail.com', 'd0j667ohs4@gmail.com', 'dwlgyfg2jl@gmail.com', 'erwvftxrc5@gmail.com', 'gf8igyszdt@gmail.com', 'h3pusayhz6@gmail.com', 'h7i1gd26hd@gmail.com', 'h9e681stj9@gmail.com', 'lno53dakx5@gmail.com', 'm8hdba3nfe@gmail.com', 'rj2mjtih4z@gmail.com', 't51zn0n1na@gmail.com', 'v9kgvi16a3@gmail.com', 'xntinjn90u@gmail.com', 'xrvunj7ivi@gmail.com', 'yi6684t409@gmail.com']\n"
     ]
    }
   ],
   "source": [
    "def filter_potential_future_aphan_participants(df, cutoff):\n",
    "    filtered_df = df[(df['FutureContactConsent'] == 1) & (df['VVIQ_Score'] <= cutoff)]\n",
    "    print(\"Filtered rows for potential future aphantasic participants:\")\n",
    "    print(filtered_df['EmailAddress'].tolist())\n",
    "    return filtered_df\n",
    "\n",
    "# Set the AphantasicCutoff value\n",
    "AphantasicCutoff = 25\n",
    "\n",
    "# Download, filter, and upload the new file\n",
    "df = download_aggregated_data()\n",
    "filtered_df = filter_potential_future_aphan_participants(df, AphantasicCutoff)\n",
    "upload_new_file(filtered_df)\n"
   ]
  },
  {
   "cell_type": "code",
   "execution_count": 6,
   "metadata": {},
   "outputs": [
    {
     "name": "stdout",
     "output_type": "stream",
     "text": [
      "File 'potential_future_aphan_participants.parquet' successfully created in bucket 'aggregated-exp-data-parquet'.\n"
     ]
    },
    {
     "data": {
      "text/plain": [
       "True"
      ]
     },
     "execution_count": 6,
     "metadata": {},
     "output_type": "execute_result"
    }
   ],
   "source": [
    "def check_file_exists(bucket_name, file_key):\n",
    "    try:\n",
    "        s3.head_object(Bucket=bucket_name, Key=file_key)\n",
    "        print(f\"File '{file_key}' successfully created in bucket '{bucket_name}'.\")\n",
    "        return True\n",
    "    except:\n",
    "        print(f\"File '{file_key}' does not exist in bucket '{bucket_name}'.\")\n",
    "        return False\n",
    "\n",
    "# Verify the new file\n",
    "check_file_exists(destination_bucket, new_file)\n"
   ]
  },
  {
   "cell_type": "code",
   "execution_count": 7,
   "metadata": {},
   "outputs": [],
   "source": [
    "def remove_rows_with_missing_values(df):\n",
    "    missing_value_rows = df[df.isnull().any(axis=1)]\n",
    "    if not missing_value_rows.empty:\n",
    "        print(\"Rows removed due to missing values:\")\n",
    "        print(missing_value_rows['EmailAddress'].tolist())\n",
    "    df = df.dropna()\n",
    "    return df\n",
    "\n",
    "# Download the data, apply the filter, and upload the result\n",
    "df = download_aggregated_data()\n",
    "df = remove_rows_with_missing_values(df)\n",
    "upload_filtered_data(df)\n"
   ]
  },
  {
   "cell_type": "code",
   "execution_count": 8,
   "metadata": {},
   "outputs": [
    {
     "name": "stdout",
     "output_type": "stream",
     "text": [
      "Rows removed due to incorrect attention check answers:\n",
      "['07e9dl4p4m@gmail.com', '0tff6mmdws@gmail.com', '0yofabs7se@gmail.com', '19wspycaqb@gmail.com', '1czlbmtpxs@gmail.com', '1i4dgd97m3@gmail.com', '2gcy5cm42i@gmail.com', '2jth6vvh0d@gmail.com', '2syoniq5tq@gmail.com', '2z8cq3s5rd@gmail.com', '38ml5hf0dx@gmail.com', '3e32vhjzy1@gmail.com', '3eu43sem6r@gmail.com', '3exkl8jxmf@gmail.com', '3gnt8z97ub@gmail.com', '3mvrbcwto0@gmail.com', '3smyws11s4@gmail.com', '3wx2etrpt6@gmail.com', '3x1ri3r8kg@gmail.com', '3xet56l298@gmail.com', '3xonogz2k9@gmail.com', '3y8d6aejaj@gmail.com', '48mq5t4v6e@gmail.com', '4enptdoyoa@gmail.com', '4l8eow9pc5@gmail.com', '4o5opcpx2b@gmail.com', '53yt5qrkcw@gmail.com', '5gq2fahesc@gmail.com', '5gx7uw6y1m@gmail.com', '5zzfim1vwr@gmail.com', '64uy9byg3i@gmail.com', '6acj8jzbwd@gmail.com', '6i01pra377@gmail.com', '6j7tb8t04r@gmail.com', '6jpcr837v4@gmail.com', '70z5w73hrx@gmail.com', '726tb97mzg@gmail.com', '7dvv3ss6ny@gmail.com', '7eylttq5nq@gmail.com', '7rd31d5vci@gmail.com', '7tx613qz6g@gmail.com', '7xyd3qe8a1@gmail.com', '8bb32fwvkx@gmail.com', '8l78evaync@gmail.com', '8mh4ao4thm@gmail.com', '8ogk04msmd@gmail.com', '8qd3im21m6@gmail.com', '8zzuwobjlr@gmail.com', '95e24ic0qc@gmail.com', '9im2aqhs54@gmail.com', '9j280943kj@gmail.com', '9ktaiva0di@gmail.com', '9pav9eseke@gmail.com', '9siqeq886g@gmail.com', '9tmhqldp29@gmail.com', '9zktphvymz@gmail.com', 'a9buszoz26@gmail.com', 'ac33uq5yqh@gmail.com', 'atlrttbcvo@gmail.com', 'ay3j8it15q@gmail.com', 'b1jbr17q24@gmail.com', 'b55hj2z1hq@gmail.com', 'bf1ca2yj92@gmail.com', 'bmu4vi64yj@gmail.com', 'bqmqo2d5ps@gmail.com', 'c0hvhzqst6@gmail.com', 'c4xjudnq2z@gmail.com', 'c89wl02z7b@gmail.com', 'cagsv7dnjx@gmail.com', 'cr3tl5f9tz@gmail.com', 'crgj29qjtb@gmail.com', 'cxu7luypuf@gmail.com', 'd2vlphhmey@gmail.com', 'd8bhwk90je@gmail.com', 'dfntl2f6il@gmail.com', 'dgwn46ny48@gmail.com', 'dsan87l3jf@gmail.com', 'dwlgyfg2jl@gmail.com', 'dz8zw51fup@gmail.com', 'e53f8gn9gb@gmail.com', 'eks788d6fh@gmail.com', 'eo0z8ykzdg@gmail.com', 'erygo2yccv@gmail.com', 'es6f4x2jxi@gmail.com', 'etp2y35mu2@gmail.com', 'f69i2ei450@gmail.com', 'f6ndsmixox@gmail.com', 'fdwr381tk3@gmail.com', 'fs71rtixez@gmail.com', 'fskwwjke39@gmail.com', 'g3gsq2zk20@gmail.com', 'g4tlunly5c@gmail.com', 'g7wqr9ldbs@gmail.com', 'g9kthgn94e@gmail.com', 'gl58dodp72@gmail.com', 'gorq7e4j0w@gmail.com', 'gu4zap65kq@gmail.com', 'h3pusayhz6@gmail.com', 'h8a1ma0rl9@gmail.com', 'h9e681stj9@gmail.com', 'hekvj9y8yl@gmail.com', 'hf3edxpl7h@gmail.com', 'hhxi4jxok2@gmail.com', 'hm4t32ry75@gmail.com', 'hr14bux9rs@gmail.com', 'htrv2g932g@gmail.com', 'ik87zz580g@gmail.com', 'ikhs8jmee7@gmail.com', 'ila8f5ioay@gmail.com', 'in2b8bz2vl@gmail.com', 'insasj8at3@gmail.com', 'iozs39l9fl@gmail.com', 'iq4bjztgb7@gmail.com', 'j167ejapf8@gmail.com', 'j1yjdct57m@gmail.com', 'j4s1u9uruu@gmail.com', 'j53uaccmix@gmail.com', 'j815jyvnd6@gmail.com', 'j9vb4bqakq@gmail.com', 'jc6h86jmxo@gmail.com', 'jfied1il87@gmail.com', 'jkvyvd4lj2@gmail.com', 'jp3vh0t1cu@gmail.com', 'jqe440xbl7@gmail.com', 'jwbrexteac@gmail.com', 'k8fgjcvusi@gmail.com', 'kcs97aykya@gmail.com', 'lb9wq6jv53@gmail.com', 'lbxo0hq58d@gmail.com', 'lhpclmm1zk@gmail.com', 'lno53dakx5@gmail.com', 'lo56n48t4q@gmail.com', 'lsmca2pd74@gmail.com', 'lzo16sfwcx@gmail.com', 'lzo82q157d@gmail.com', 'm19wi9bhda@gmail.com', 'm6yc6ebvi1@gmail.com', 'm998ytl1uj@gmail.com', 'mpdik63hsc@gmail.com', 'mv2ed24fhk@gmail.com', 'n7vgh3fbpy@gmail.com', 'n80t3vh4qv@gmail.com', 'nhuzemeoqj@gmail.com', 'nx6of9jlrq@gmail.com', 'nyt4zdweyr@gmail.com', 'ov2dk70va7@gmail.com', 'oyreas5tv7@gmail.com', 'p2vtsbn0ms@gmail.com', 'p7nfmpq0a8@gmail.com', 'partt95v64@gmail.com', 'pg6u203631@gmail.com', 'phge8enp71@gmail.com', 'pog8go5lp7@gmail.com', 'poqnjid6ch@gmail.com', 'pp4epyi4br@gmail.com', 'pplfgrem8l@gmail.com', 'pxguox9yzy@gmail.com', 'pzqqmhddkd@gmail.com', 'qbvnv9jzoo@gmail.com', 'qdfqmdmww4@gmail.com', 'qmbqtfzftn@gmail.com', 'qtb50sbqwx@gmail.com', 'r4jc84o0qz@gmail.com', 'r7m67f8t6x@gmail.com', 'rdw4whjl2k@gmail.com', 'rfthh6njkx@gmail.com', 'rj2mjtih4z@gmail.com', 'rmnbxt8dj1@gmail.com', 'sqjex4h3lp@gmail.com', 'stpgk0v04r@gmail.com', 'swwe2mesnz@gmail.com', 'sz5vgarrvj@gmail.com', 'szi4hn9mav@gmail.com', 't51zn0n1na@gmail.com', 't5o9igg105@gmail.com', 't6wa7h96dz@gmail.com', 'trfjn5qisb@gmail.com', 'tsm2z2ncmn@gmail.com', 'tsqfvmlo59@gmail.com', 'tv7kpw8o7w@gmail.com', 'u1wez6wevt@gmail.com', 'u340jzzepm@gmail.com', 'u83cyyzh4k@gmail.com', 'ubjyf9wk32@gmail.com', 'uqv2hel11s@gmail.com', 'uxa80d98x3@gmail.com', 'uykgbkdshi@gmail.com', 'v11jssqgrj@gmail.com', 'v3ktzqofo9@gmail.com', 'v3qjitfvni@gmail.com', 'v6ozawvmc6@gmail.com', 'v9kgvi16a3@gmail.com', 'vb724j1hkh@gmail.com', 'vcixp5fz70@gmail.com', 'vmid6f45oc@gmail.com', 'vq9o7uj8ju@gmail.com', 'wgk18ldtmr@gmail.com', 'wpd6opaa1m@gmail.com', 'wtr4rp8j5p@gmail.com', 'x3fmbwhqm6@gmail.com', 'x9e2syyeri@gmail.com', 'xbnxqe5pne@gmail.com', 'xhctf6010h@gmail.com', 'xnj72z7blq@gmail.com', 'xslr5c3mmi@gmail.com', 'xtalwhawgt@gmail.com', 'xuxqf72hqq@gmail.com', 'xzbf0rpqv2@gmail.com', 'y3afu9b3c7@gmail.com', 'y4655zphpk@gmail.com', 'y4yde5w2nw@gmail.com', 'y7uxaxmbgb@gmail.com', 'y9esnlx5vp@gmail.com', 'ydnd8htnci@gmail.com', 'yi6684t409@gmail.com', 'yikwj3v8d4@gmail.com', 'yloq4axryl@gmail.com', 'ypyzigczm6@gmail.com', 'z0z4o8x2sp@gmail.com', 'z7w23a7yv2@gmail.com', 'zixlh6hbh5@gmail.com', 'zjcb6khvz4@gmail.com', 'zo3ir981th@gmail.com']\n"
     ]
    }
   ],
   "source": [
    "def remove_rows_with_incorrect_attention_check(df, correct_answer):\n",
    "    incorrect_attention_rows = df[df['AttentionCheckTask'] != correct_answer]\n",
    "    if not incorrect_attention_rows.empty:\n",
    "        print(\"Rows removed due to incorrect attention check answers:\")\n",
    "        print(incorrect_attention_rows['EmailAddress'].tolist())\n",
    "    df = df[df['AttentionCheckTask'] == correct_answer]\n",
    "    return df\n",
    "\n",
    "# Set the correct attention check answer\n",
    "AttentionCheckAnswer = \"Numbers\" \n",
    "\n",
    "# Apply the filter\n",
    "df = download_aggregated_data()\n",
    "df = remove_rows_with_incorrect_attention_check(df, AttentionCheckAnswer)\n",
    "upload_filtered_data(df)\n"
   ]
  },
  {
   "cell_type": "code",
   "execution_count": 9,
   "metadata": {},
   "outputs": [
    {
     "name": "stdout",
     "output_type": "stream",
     "text": [
      "Rows removed due to not participating under ideal conditions:\n",
      "['0ew2g7jfla@gmail.com', '0z710d02cc@gmail.com', '2amk5u3cgd@gmail.com', '2c1z3zfvrj@gmail.com', '2tmd1xetkv@gmail.com', '396vvsn8hn@gmail.com', '3r2l39udlp@gmail.com', '3ws86w85le@gmail.com', '4auxgl5oja@gmail.com', '4nar8btra5@gmail.com', '5qnht75xjy@gmail.com', '6o8t8q4b9j@gmail.com', '711o35o9p4@gmail.com', '7p5niy1gtu@gmail.com', '7yd3rs0y65@gmail.com', 'afdd56ach1@gmail.com', 'aqj21awgbf@gmail.com', 'bu0g3hrz1n@gmail.com', 'd0j667ohs4@gmail.com', 'dluorwikdk@gmail.com', 'dw0hrzr11b@gmail.com', 'eecxg1q25q@gmail.com', 'fdzgdgbx1e@gmail.com', 'fezqwgrthi@gmail.com', 'gf8igyszdt@gmail.com', 'h7i1gd26hd@gmail.com', 'hz3m1e0tac@gmail.com', 'i29ui2ssd9@gmail.com', 'ilmelxb2gl@gmail.com', 'in0ygjwyzi@gmail.com', 'l27x4ll7nz@gmail.com', 'la2jrbcf0o@gmail.com', 'lg1b3ebgy4@gmail.com', 'muzom0tm6x@gmail.com', 'qril0pv7t1@gmail.com', 'rlanxfd9h8@gmail.com', 'ryjoedcwup@gmail.com', 'sarluoizuz@gmail.com', 'sxrl60bne2@gmail.com', 'wbmvr4ccm2@gmail.com', 'xjy8mcuhhb@gmail.com', 'znbmjtjjk5@gmail.com']\n"
     ]
    }
   ],
   "source": [
    "def remove_rows_with_unideal_participation(df):\n",
    "    incorrect_participation_rows = df[df['IdealParticipation'] != 1]\n",
    "    if not incorrect_participation_rows.empty:\n",
    "        print(\"Rows removed due to not participating under ideal conditions:\")\n",
    "        print(incorrect_participation_rows['EmailAddress'].tolist())\n",
    "    df = df[df['IdealParticipation'] == 1]\n",
    "    return df\n",
    "\n",
    "# Apply the filter\n",
    "df = download_aggregated_data()\n",
    "df = remove_rows_with_unideal_participation(df)\n",
    "upload_filtered_data(df)\n"
   ]
  },
  {
   "cell_type": "code",
   "execution_count": 10,
   "metadata": {},
   "outputs": [
    {
     "name": "stdout",
     "output_type": "stream",
     "text": [
      "Rows removed due to age not meeting the criteria:\n",
      "['0qa175qzmn@gmail.com', '4q052hx31s@gmail.com', '7ckrljnwo3@gmail.com', '7vum8xytf9@gmail.com', 'b0iokv2vul@gmail.com', 'i517p0qqoy@gmail.com', 'i6zk0q6jaf@gmail.com', 'opgab563e6@gmail.com', 'rqqnpjq57k@gmail.com', 'wiotnlup7t@gmail.com', 'xdq687wdte@gmail.com', 'ygechsi2jr@gmail.com', 'z5s0rjsm4p@gmail.com']\n"
     ]
    }
   ],
   "source": [
    "def remove_rows_with_out_of_range_age(df, min_age, max_age):\n",
    "    out_of_range_age_rows = df[(df['Age'] < min_age) | (df['Age'] > max_age)]\n",
    "    if not out_of_range_age_rows.empty:\n",
    "        print(\"Rows removed due to age not meeting the criteria:\")\n",
    "        print(out_of_range_age_rows['EmailAddress'].tolist())\n",
    "    df = df[(df['Age'] >= min_age) & (df['Age'] <= max_age)]\n",
    "    return df\n",
    "\n",
    "# Set the age criteria\n",
    "MinAge = 18\n",
    "MaxAge = 70\n",
    "\n",
    "# Apply the filter\n",
    "df = download_aggregated_data()\n",
    "df = remove_rows_with_out_of_range_age(df, MinAge, MaxAge)\n",
    "upload_filtered_data(df)\n"
   ]
  },
  {
   "cell_type": "code",
   "execution_count": 11,
   "metadata": {},
   "outputs": [
    {
     "name": "stdout",
     "output_type": "stream",
     "text": [
      "Aphantasic Participants' Email Addresses:\n",
      "['7f8gvj6hhc@gmail.com' 'erwvftxrc5@gmail.com' 'm8hdba3nfe@gmail.com'\n",
      " 'u61oxdvxxa@gmail.com' 'xntinjn90u@gmail.com' 'xrvunj7ivi@gmail.com'\n",
      " 'ypirj6oxha@gmail.com']\n",
      "Typical Imagers' Email Addresses:\n",
      "['18um8nliha@gmail.com' '1hscz1e9gu@gmail.com' '2ue4j4z15b@gmail.com'\n",
      " '9x8r3yxn9y@gmail.com' 'amxepijc5p@gmail.com' 'bikk7gl5to@gmail.com'\n",
      " 'climvbet61@gmail.com' 'fuqip725e4@gmail.com' 'gb1vz651g8@gmail.com'\n",
      " 'hifdltf66y@gmail.com' 'k15thshzyp@gmail.com' 'r0v6p2gfz5@gmail.com'\n",
      " 's0thu77s6g@gmail.com' 'sq5n5jbqjl@gmail.com' 'ssb27wwroc@gmail.com'\n",
      " 'ul1ixkkn2i@gmail.com' 'wi1pqcssne@gmail.com' 'yrrdo2idps@gmail.com'\n",
      " 'z7eef6qj8u@gmail.com']\n",
      "Hyperphantasic Participants' Email Addresses:\n",
      "['0jiwb7eyeq@gmail.com' '487paxn911@gmail.com' '6u22yscwh1@gmail.com'\n",
      " 'gqy3mtffco@gmail.com' 'hate3kpzc8@gmail.com' 'sbu3uy8wre@gmail.com']\n"
     ]
    },
    {
     "data": {
      "text/plain": [
       "{'ResponseMetadata': {'RequestId': 'AGD2AFR0PNY0GYB8',\n",
       "  'HostId': 'JQOtpKWvAFrfRGzFzTIMQf7WRCLT3PABmNWiFwUGS9UdlvWYqqZWF5XWC9/WSJsB68iK8XhaQMM=',\n",
       "  'HTTPStatusCode': 200,\n",
       "  'HTTPHeaders': {'x-amz-id-2': 'JQOtpKWvAFrfRGzFzTIMQf7WRCLT3PABmNWiFwUGS9UdlvWYqqZWF5XWC9/WSJsB68iK8XhaQMM=',\n",
       "   'x-amz-request-id': 'AGD2AFR0PNY0GYB8',\n",
       "   'date': 'Wed, 22 May 2024 23:19:20 GMT',\n",
       "   'x-amz-server-side-encryption': 'AES256',\n",
       "   'etag': '\"699bd7431de639f1059a9c0e9ebaa12d\"',\n",
       "   'server': 'AmazonS3',\n",
       "   'content-length': '0'},\n",
       "  'RetryAttempts': 0},\n",
       " 'ETag': '\"699bd7431de639f1059a9c0e9ebaa12d\"',\n",
       " 'ServerSideEncryption': 'AES256'}"
      ]
     },
     "execution_count": 11,
     "metadata": {},
     "output_type": "execute_result"
    }
   ],
   "source": [
    "import boto3\n",
    "import pandas as pd\n",
    "from io import BytesIO\n",
    "\n",
    "# Set parameters\n",
    "destination_bucket = 'aggregated-exp-data-parquet'\n",
    "aggregated_file = 'aggregated_exp_data.parquet'\n",
    "AphantasicCutoff = 25\n",
    "HyperphantasicCutoff = 55\n",
    "\n",
    "# Create S3 client\n",
    "s3 = boto3.client('s3')\n",
    "\n",
    "# Download the aggregated Parquet file from S3\n",
    "obj = s3.get_object(Bucket=destination_bucket, Key=aggregated_file)\n",
    "data = obj['Body'].read()\n",
    "\n",
    "# Read the Parquet file content into a DataFrame\n",
    "df = pd.read_parquet(BytesIO(data))\n",
    "\n",
    "# Filter data and create new files\n",
    "aphantasic_participants = df[df['VVIQ_Score'] <= AphantasicCutoff]\n",
    "typical_imagers = df[(df['VVIQ_Score'] > AphantasicCutoff) & (df['VVIQ_Score'] < HyperphantasicCutoff)]\n",
    "hyperphantasic_participants = df[df['VVIQ_Score'] >= HyperphantasicCutoff]\n",
    "\n",
    "# Print the EmailAddress values for each filtered group\n",
    "print(\"Aphantasic Participants' Email Addresses:\")\n",
    "print(aphantasic_participants['EmailAddress'].values)\n",
    "\n",
    "print(\"Typical Imagers' Email Addresses:\")\n",
    "print(typical_imagers['EmailAddress'].values)\n",
    "\n",
    "print(\"Hyperphantasic Participants' Email Addresses:\")\n",
    "print(hyperphantasic_participants['EmailAddress'].values)\n",
    "\n",
    "# Convert filtered DataFrames to Parquet bytes\n",
    "aphantasic_parquet = BytesIO()\n",
    "typical_imagers_parquet = BytesIO()\n",
    "hyperphantasic_parquet = BytesIO()\n",
    "\n",
    "aphantasic_participants.to_parquet(aphantasic_parquet, index=False)\n",
    "typical_imagers.to_parquet(typical_imagers_parquet, index=False)\n",
    "hyperphantasic_participants.to_parquet(hyperphantasic_parquet, index=False)\n",
    "\n",
    "# Reset buffer positions to the beginning\n",
    "aphantasic_parquet.seek(0)\n",
    "typical_imagers_parquet.seek(0)\n",
    "hyperphantasic_parquet.seek(0)\n",
    "\n",
    "# Upload the new files to S3\n",
    "s3.put_object(Bucket=destination_bucket, Key='aphantasic_participants.parquet', Body=aphantasic_parquet.getvalue())\n",
    "s3.put_object(Bucket=destination_bucket, Key='typical_imagers.parquet', Body=typical_imagers_parquet.getvalue())\n",
    "s3.put_object(Bucket=destination_bucket, Key='hyperphantasic_participants.parquet', Body=hyperphantasic_parquet.getvalue())\n"
   ]
  }
 ],
 "metadata": {
  "kernelspec": {
   "display_name": "base",
   "language": "python",
   "name": "python3"
  },
  "language_info": {
   "codemirror_mode": {
    "name": "ipython",
    "version": 3
   },
   "file_extension": ".py",
   "mimetype": "text/x-python",
   "name": "python",
   "nbconvert_exporter": "python",
   "pygments_lexer": "ipython3",
   "version": "3.11.7"
  },
  "orig_nbformat": 4
 },
 "nbformat": 4,
 "nbformat_minor": 2
}
