{
 "cells": [
  {
   "cell_type": "code",
   "execution_count": 5,
   "metadata": {},
   "outputs": [
    {
     "name": "stdout",
     "output_type": "stream",
     "text": [
      "{\n",
      "    \"ClusterId\": \"j-1FFT0X07ER3W6\",\n",
      "    \"ClusterArn\": \"arn:aws:elasticmapreduce:us-east-1:888853202619:cluster/j-1FFT0X07ER3W6\"\n",
      "}\n"
     ]
    }
   ],
   "source": [
    "%%bash \n",
    "\n",
    "aws emr create-cluster \\\n",
    "    --name \"Spark Cluster\" \\\n",
    "    --release-label \"emr-6.2.0\" \\\n",
    "    --applications Name=Hadoop Name=Hive Name=JupyterEnterpriseGateway Name=JupyterHub Name=Livy Name=Pig Name=Spark Name=Tez \\\n",
    "    --instance-type m5.xlarge \\\n",
    "    --instance-count 3 \\\n",
    "    --use-default-roles \\\n",
    "    --region us-east-1 \\\n",
    "    --ec2-attributes '{\"KeyName\": \"vockey\"}' \\\n",
    "    --configurations '[\n",
    "        {\n",
    "            \"Classification\": \"jupyter-s3-conf\", \n",
    "            \"Properties\": {\n",
    "                \"s3.persistence.enabled\": \"true\", \n",
    "                \"s3.persistence.bucket\": \"sending-egift-cards-parquet,testing-exp-data-parquet\"\n",
    "            }\n",
    "        }\n",
    "    ]'\n"
   ]
  }
 ],
 "metadata": {
  "kernelspec": {
   "display_name": "base",
   "language": "python",
   "name": "python3"
  },
  "language_info": {
   "codemirror_mode": {
    "name": "ipython",
    "version": 3
   },
   "file_extension": ".py",
   "mimetype": "text/x-python",
   "name": "python",
   "nbconvert_exporter": "python",
   "pygments_lexer": "ipython3",
   "version": "3.11.7"
  },
  "orig_nbformat": 4
 },
 "nbformat": 4,
 "nbformat_minor": 2
}
