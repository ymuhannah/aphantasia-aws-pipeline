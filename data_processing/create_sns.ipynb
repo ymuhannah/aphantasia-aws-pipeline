{
 "cells": [
  {
   "cell_type": "code",
   "execution_count": 1,
   "metadata": {},
   "outputs": [
    {
     "name": "stdout",
     "output_type": "stream",
     "text": [
      "SNS topic 'egift-card-compensation-parquet' created with ARN: arn:aws:sns:us-east-1:888853202619:egift-card-compensation-parquet\n",
      "Subscribed ymuhannah@gmail.com to SNS topic egift-card-compensation-parquet\n",
      "Subscribed aliceluo@uchicago.edu to SNS topic egift-card-compensation-parquet\n",
      "All participants subscribed successfully.\n"
     ]
    }
   ],
   "source": [
    "import boto3\n",
    "import pandas as pd\n",
    "from io import BytesIO\n",
    "\n",
    "# Create S3 and SNS clients\n",
    "s3 = boto3.client('s3')\n",
    "sns = boto3.client('sns', region_name='us-east-1')  # Change region if necessary\n",
    "\n",
    "# Define bucket and file names\n",
    "bucket2 = 'testing-exp-data-parquet'\n",
    "participants_data_file = 'participants_data.parquet'\n",
    "\n",
    "# Download the participants_data.parquet file from S3\n",
    "obj = s3.get_object(Bucket=bucket2, Key=participants_data_file)\n",
    "data = obj['Body'].read()\n",
    "\n",
    "# Load participants data into a DataFrame\n",
    "participants_df = pd.read_parquet(BytesIO(data))\n",
    "\n",
    "# Create SNS topic\n",
    "sns_topic_name = 'egift-card-compensation-parquet'\n",
    "response = sns.create_topic(Name=sns_topic_name)\n",
    "sns_topic_arn = response['TopicArn']\n",
    "\n",
    "print(f\"SNS topic '{sns_topic_name}' created with ARN: {sns_topic_arn}\")\n",
    "\n",
    "# Subscribe participants to the SNS topic\n",
    "for email in participants_df['EmailAddress']:\n",
    "    try:\n",
    "        sns.subscribe(\n",
    "            TopicArn=sns_topic_arn,\n",
    "            Protocol='email',\n",
    "            Endpoint=email\n",
    "        )\n",
    "        print(f\"Subscribed {email} to SNS topic {sns_topic_name}\")\n",
    "    except Exception as e:\n",
    "        print(f\"Error subscribing {email}: {e}\")\n",
    "\n",
    "print(\"All participants subscribed successfully.\")\n"
   ]
  }
 ],
 "metadata": {
  "kernelspec": {
   "display_name": "base",
   "language": "python",
   "name": "python3"
  },
  "language_info": {
   "codemirror_mode": {
    "name": "ipython",
    "version": 3
   },
   "file_extension": ".py",
   "mimetype": "text/x-python",
   "name": "python",
   "nbconvert_exporter": "python",
   "pygments_lexer": "ipython3",
   "version": "3.11.7"
  },
  "orig_nbformat": 4
 },
 "nbformat": 4,
 "nbformat_minor": 2
}
